{
 "cells": [
  {
   "cell_type": "markdown",
   "metadata": {},
   "source": [
    "# City Immigration and Temperatures\n",
    "### Data Engineering Capstone Project\n",
    "\n",
    "#### Project Summary\n",
    "The project aims to answer US immigration from factors of immigrant demographics, destination city and temperature, and arrival date in the US. We extract data from two different sources, the I94 immigration dataset of 2016, and city temperature data from Kaggle. We design 3 dimension tables covering immigrant demographics spanning age, gender, and visa type, destination city and average temperature of 2013, and arrival date with flags on day of week, week of year, and month, and 1 fact table on immigration number. We use Spark for ETL jobs, and store result in parquet for downstream analysis.\n"
   ]
  },
  {
   "cell_type": "code",
   "execution_count": 1,
   "metadata": {},
   "outputs": [],
   "source": [
    "# Do all imports and installs here\n",
    "import pandas as pd\n",
    "from pyspark.sql import SparkSession\n",
    "from pyspark.sql.functions import *\n",
    "import pyspark.sql.functions as F\n",
    "import pyspark.sql.types as t\n",
    "from datetime import datetime\n",
    "from datetime import timedelta\n",
    "import re\n",
    "from pprint import pprint"
   ]
  },
  {
   "cell_type": "code",
   "execution_count": 2,
   "metadata": {},
   "outputs": [],
   "source": [
    "# Create Spark session\n",
    "spark = SparkSession.builder.\\\n",
    "config(\"spark.jars.packages\",\"saurfang:spark-sas7bdat:2.0.0-s_2.11\")\\\n",
    ".enableHiveSupport().getOrCreate()"
   ]
  },
  {
   "cell_type": "code",
   "execution_count": 3,
   "metadata": {},
   "outputs": [],
   "source": [
    "# Create helper to convert spark to pandas dataframe \n",
    "def spark_to_pandas(results):\n",
    "    import pandas as pd\n",
    "    df = pd.DataFrame(results, columns=results[0].__fields__)\n",
    "    return df"
   ]
  },
  {
   "cell_type": "markdown",
   "metadata": {},
   "source": [
    "### #1: Scope the Project and Gather Data\n",
    "\n",
    "#### Scope \n",
    "The goal of this project is to pull data from two sources, and create fact and dimension tables to show immigration pattern with factors of immigrant demographics, destination city temperature, and seasonality. \n",
    " \n",
    "\n",
    "#### Describe and Gather Data \n",
    "1. I94 Immigration Data: comes from the U.S. National Tourism and Trade Office and includes details on incoming international arrivals. The data includes information on country of origin, visa type, age, and port of entry [link](https://travel.trade.gov/research/reports/i94/historical/2016.html)\n",
    "2. World Temperature Data: comes from Kaggle and includes temperature data in the U.S. since from 1850 to 2013 [link](https://www.kaggle.com/berkeleyearth/climate-change-earth-surface-temperature-data)"
   ]
  },
  {
   "cell_type": "code",
   "execution_count": 4,
   "metadata": {},
   "outputs": [],
   "source": [
    "# Read in data sources\n",
    "demo = spark.read.format(\"csv\").option(\"delimiter\", \";\").option(\"header\", \"true\").load(\"us-cities-demographics.csv\")\n",
    "airports = spark.read.format(\"csv\").option(\"delimiter\", \",\").option(\"header\", \"true\").load(\"airport-codes_csv.csv\")\n",
    "i94 = spark.read.format('com.github.saurfang.sas.spark').load('data/i94_apr16_sub.sas7bdat')\n",
    "temperature = spark.read.format(\"csv\").option(\"delimiter\", \",\").option(\"header\", \"true\").load(\"GlobalLandTemperaturesByCity.csv\")"
   ]
  },
  {
   "cell_type": "markdown",
   "metadata": {},
   "source": [
    "### #2: Explore and Assess the Data\n",
    "#### Data Explorationa & Cleaning"
   ]
  },
  {
   "cell_type": "markdown",
   "metadata": {},
   "source": [
    "### <i> i94 Data <i>"
   ]
  },
  {
   "cell_type": "code",
   "execution_count": 5,
   "metadata": {},
   "outputs": [
    {
     "data": {
      "text/plain": [
       "3096313"
      ]
     },
     "execution_count": 5,
     "metadata": {},
     "output_type": "execute_result"
    }
   ],
   "source": [
    "i94.count()"
   ]
  },
  {
   "cell_type": "code",
   "execution_count": 6,
   "metadata": {},
   "outputs": [
    {
     "data": {
      "text/html": [
       "<div>\n",
       "<style scoped>\n",
       "    .dataframe tbody tr th:only-of-type {\n",
       "        vertical-align: middle;\n",
       "    }\n",
       "\n",
       "    .dataframe tbody tr th {\n",
       "        vertical-align: top;\n",
       "    }\n",
       "\n",
       "    .dataframe thead th {\n",
       "        text-align: right;\n",
       "    }\n",
       "</style>\n",
       "<table border=\"1\" class=\"dataframe\">\n",
       "  <thead>\n",
       "    <tr style=\"text-align: right;\">\n",
       "      <th></th>\n",
       "      <th>cicid</th>\n",
       "      <th>i94yr</th>\n",
       "      <th>i94mon</th>\n",
       "      <th>i94cit</th>\n",
       "      <th>i94res</th>\n",
       "      <th>i94port</th>\n",
       "      <th>arrdate</th>\n",
       "      <th>i94mode</th>\n",
       "      <th>i94addr</th>\n",
       "      <th>depdate</th>\n",
       "      <th>...</th>\n",
       "      <th>entdepu</th>\n",
       "      <th>matflag</th>\n",
       "      <th>biryear</th>\n",
       "      <th>dtaddto</th>\n",
       "      <th>gender</th>\n",
       "      <th>insnum</th>\n",
       "      <th>airline</th>\n",
       "      <th>admnum</th>\n",
       "      <th>fltno</th>\n",
       "      <th>visatype</th>\n",
       "    </tr>\n",
       "  </thead>\n",
       "  <tbody>\n",
       "    <tr>\n",
       "      <td>0</td>\n",
       "      <td>6.0</td>\n",
       "      <td>2016.0</td>\n",
       "      <td>4.0</td>\n",
       "      <td>692.0</td>\n",
       "      <td>692.0</td>\n",
       "      <td>XXX</td>\n",
       "      <td>20573.0</td>\n",
       "      <td>NaN</td>\n",
       "      <td>None</td>\n",
       "      <td>NaN</td>\n",
       "      <td>...</td>\n",
       "      <td>U</td>\n",
       "      <td>None</td>\n",
       "      <td>1979.0</td>\n",
       "      <td>10282016</td>\n",
       "      <td>None</td>\n",
       "      <td>None</td>\n",
       "      <td>None</td>\n",
       "      <td>1.897628e+09</td>\n",
       "      <td>None</td>\n",
       "      <td>B2</td>\n",
       "    </tr>\n",
       "    <tr>\n",
       "      <td>1</td>\n",
       "      <td>7.0</td>\n",
       "      <td>2016.0</td>\n",
       "      <td>4.0</td>\n",
       "      <td>254.0</td>\n",
       "      <td>276.0</td>\n",
       "      <td>ATL</td>\n",
       "      <td>20551.0</td>\n",
       "      <td>1.0</td>\n",
       "      <td>AL</td>\n",
       "      <td>NaN</td>\n",
       "      <td>...</td>\n",
       "      <td>Y</td>\n",
       "      <td>None</td>\n",
       "      <td>1991.0</td>\n",
       "      <td>D/S</td>\n",
       "      <td>M</td>\n",
       "      <td>None</td>\n",
       "      <td>None</td>\n",
       "      <td>3.736796e+09</td>\n",
       "      <td>00296</td>\n",
       "      <td>F1</td>\n",
       "    </tr>\n",
       "    <tr>\n",
       "      <td>2</td>\n",
       "      <td>15.0</td>\n",
       "      <td>2016.0</td>\n",
       "      <td>4.0</td>\n",
       "      <td>101.0</td>\n",
       "      <td>101.0</td>\n",
       "      <td>WAS</td>\n",
       "      <td>20545.0</td>\n",
       "      <td>1.0</td>\n",
       "      <td>MI</td>\n",
       "      <td>20691.0</td>\n",
       "      <td>...</td>\n",
       "      <td>None</td>\n",
       "      <td>M</td>\n",
       "      <td>1961.0</td>\n",
       "      <td>09302016</td>\n",
       "      <td>M</td>\n",
       "      <td>None</td>\n",
       "      <td>OS</td>\n",
       "      <td>6.666432e+08</td>\n",
       "      <td>93</td>\n",
       "      <td>B2</td>\n",
       "    </tr>\n",
       "  </tbody>\n",
       "</table>\n",
       "<p>3 rows × 28 columns</p>\n",
       "</div>"
      ],
      "text/plain": [
       "   cicid   i94yr  i94mon  i94cit  i94res i94port  arrdate  i94mode i94addr  \\\n",
       "0    6.0  2016.0     4.0   692.0   692.0     XXX  20573.0      NaN    None   \n",
       "1    7.0  2016.0     4.0   254.0   276.0     ATL  20551.0      1.0      AL   \n",
       "2   15.0  2016.0     4.0   101.0   101.0     WAS  20545.0      1.0      MI   \n",
       "\n",
       "   depdate  ...  entdepu  matflag  biryear   dtaddto gender insnum airline  \\\n",
       "0      NaN  ...        U     None   1979.0  10282016   None   None    None   \n",
       "1      NaN  ...        Y     None   1991.0       D/S      M   None    None   \n",
       "2  20691.0  ...     None        M   1961.0  09302016      M   None      OS   \n",
       "\n",
       "         admnum  fltno visatype  \n",
       "0  1.897628e+09   None       B2  \n",
       "1  3.736796e+09  00296       F1  \n",
       "2  6.666432e+08     93       B2  \n",
       "\n",
       "[3 rows x 28 columns]"
      ]
     },
     "execution_count": 6,
     "metadata": {},
     "output_type": "execute_result"
    }
   ],
   "source": [
    "spark_to_pandas(i94.take(3))"
   ]
  },
  {
   "cell_type": "code",
   "execution_count": 7,
   "metadata": {},
   "outputs": [
    {
     "name": "stdout",
     "output_type": "stream",
     "text": [
      "I94YR - 4 digit year */\n",
      "I94MON - Numeric month */\n",
      "I94CIT & I94RES - This format shows all the valid and invalid codes for processing */\n",
      "I94PORT - This format shows all the valid and invalid codes for processing */\n",
      "ARRDATE is the Arrival Date in the USA. It is a SAS date numeric field that a\n",
      "I94MODE - There are missing values as well as not reported (9) */\n",
      "I94ADDR - There is lots of invalid codes in this variable and the list below\n",
      "DEPDATE is the Departure Date from the USA. It is a SAS date numeric field that\n",
      "I94BIR - Age of Respondent in Years */\n",
      "I94VISA - Visa codes collapsed into three categories:\n",
      "COUNT - Used for summary statistics */\n",
      "DTADFILE - Character Date Field - Date added to I-94 Files - CIC does not use */\n",
      "VISAPOST - Department of State where where Visa was issued - CIC does not use */\n",
      "OCCUP - Occupation that will be performed in U.S. - CIC does not use */\n",
      "ENTDEPA - Arrival Flag - admitted or paroled into the U.S. - CIC does not use */\n",
      "ENTDEPD - Departure Flag - Departed, lost I-94 or is deceased - CIC does not use */\n",
      "ENTDEPU - Update Flag - Either apprehended, overstayed, adjusted to perm residence - CIC does not use */\n",
      "MATFLAG - Match flag - Match of arrival and departure records */\n",
      "BIRYEAR - 4 digit year of birth */\n",
      "DTADDTO - Character Date Field - Date to which admitted to U.S. (allowed to stay until) - CIC does not use */\n",
      "GENDER - Non-immigrant sex */\n",
      "INSNUM - INS number */\n",
      "AIRLINE - Airline used to arrive in U.S. */\n",
      "ADMNUM - Admission Number */\n",
      "FLTNO - Flight number of Airline used to arrive in U.S. */\n",
      "VISATYPE - Class of admission legally admitting the non-immigrant to temporarily stay in U.S. */\n"
     ]
    }
   ],
   "source": [
    "# Create helper to parse/map variable labels in SAS data files\n",
    "\n",
    "i94_sas_labels = 'I94_SAS_Labels_Descriptions.SAS'\n",
    "with open(i94_sas_labels) as f:\n",
    "    lines = f.readlines()    \n",
    "\n",
    "prog1 = re.compile(r'^/\\*\\s+(?P<label>.+?)\\s+$')\n",
    "result1 = [prog1.match(c) for c in lines]\n",
    "\n",
    "for parsed_line in result1:\n",
    "    if parsed_line != None:\n",
    "        print(parsed_line.group(\"label\"))"
   ]
  },
  {
   "cell_type": "code",
   "execution_count": 8,
   "metadata": {},
   "outputs": [],
   "source": [
    "# Create helper to validate destination columns are valid state shorthand names\n",
    "valid_state = demo.toPandas()['State Code'].unique()\n",
    "#print(valid_state)\n",
    "\n",
    "valid_state_num = demo.toPandas()['State Code'].nunique()\n",
    "#print(valid_state_num)"
   ]
  },
  {
   "cell_type": "code",
   "execution_count": 9,
   "metadata": {},
   "outputs": [],
   "source": [
    "# Create helper to screen valid ports \n",
    "prog2 = re.compile(r'\\'(.*)\\'.*\\'(.*)\\'')\n",
    "valid_ports = {}\n",
    "for line in lines[302:961]:\n",
    "    res = prog2.search(line)\n",
    "    valid_ports[res.group(1)]=[res.group(2)]\n",
    "#pprint(valid_ports)"
   ]
  },
  {
   "cell_type": "code",
   "execution_count": 10,
   "metadata": {},
   "outputs": [],
   "source": [
    "# Create helper to convert SAS date to PySpark date \n",
    "\n",
    "def date_add_(date, days):\n",
    "    if type(date) is not datetime:\n",
    "        date = datetime.strptime('1960-01-01', \"%Y-%m-%d\")\n",
    "    return date + timedelta(days)\n",
    "\n",
    "date_add_udf = F.udf(date_add_, t.DateType())"
   ]
  },
  {
   "cell_type": "code",
   "execution_count": 11,
   "metadata": {},
   "outputs": [],
   "source": [
    "# Create cleaned dataframe for i94\n",
    "\n",
    "df_i94 = i94.filter(i94.i94addr.isNotNull())\\\n",
    "            .filter(i94.i94addr.isin(list(valid_state)))\\\n",
    "            .filter(i94.i94port.isNotNull())\\\n",
    "            .filter(i94.i94port.isin(list(valid_ports.keys())))\\\n",
    "            .withColumn(\"sas_date\", lit(\"1960-01-01\"))\\\n",
    "            .withColumn('newdate', date_add_udf(F.to_date('sas_date'), 'arrdate'))\\\n",
    "            .withColumn(\"id\", monotonically_increasing_id())\\\n",
    "            .withColumn(\"i94yr\",col(\"i94yr\").cast(\"integer\"))\\\n",
    "            .withColumn(\"i94mon\",col(\"i94mon\").cast(\"integer\"))\\\n",
    "            .withColumn(\"i94bir\",col(\"i94bir\").cast(\"integer\"))\\\n",
    "            .withColumn(\"count\",col(\"count\").cast(\"integer\"))\\\n",
    "            .withColumn(\"I94VISA\",col(\"I94VISA\").cast(\"integer\"))\\\n",
    "\n",
    "\n",
    "df_i94 = df_i94.select(col(\"id\").alias(\"uuid\"), \n",
    "                       col(\"newdate\").alias(\"date\"),\n",
    "                       col(\"i94port\").alias(\"city_code\"),\n",
    "                       col(\"i94addr\").alias(\"state_code\"),\n",
    "                       col(\"i94bir\").alias(\"age\"),\n",
    "                       col(\"gender\").alias(\"gender\"),\n",
    "                       col(\"i94visa\").alias(\"visa_type\"),\n",
    "                       \"count\").drop_duplicates()"
   ]
  },
  {
   "cell_type": "code",
   "execution_count": 12,
   "metadata": {},
   "outputs": [
    {
     "data": {
      "text/html": [
       "<div>\n",
       "<style scoped>\n",
       "    .dataframe tbody tr th:only-of-type {\n",
       "        vertical-align: middle;\n",
       "    }\n",
       "\n",
       "    .dataframe tbody tr th {\n",
       "        vertical-align: top;\n",
       "    }\n",
       "\n",
       "    .dataframe thead th {\n",
       "        text-align: right;\n",
       "    }\n",
       "</style>\n",
       "<table border=\"1\" class=\"dataframe\">\n",
       "  <thead>\n",
       "    <tr style=\"text-align: right;\">\n",
       "      <th></th>\n",
       "      <th>uuid</th>\n",
       "      <th>date</th>\n",
       "      <th>city_code</th>\n",
       "      <th>state_code</th>\n",
       "      <th>age</th>\n",
       "      <th>gender</th>\n",
       "      <th>visa_type</th>\n",
       "      <th>count</th>\n",
       "    </tr>\n",
       "  </thead>\n",
       "  <tbody>\n",
       "    <tr>\n",
       "      <td>0</td>\n",
       "      <td>107</td>\n",
       "      <td>2016-04-01</td>\n",
       "      <td>NEW</td>\n",
       "      <td>NY</td>\n",
       "      <td>54</td>\n",
       "      <td>M</td>\n",
       "      <td>2</td>\n",
       "      <td>1</td>\n",
       "    </tr>\n",
       "    <tr>\n",
       "      <td>1</td>\n",
       "      <td>473</td>\n",
       "      <td>2016-04-01</td>\n",
       "      <td>SFR</td>\n",
       "      <td>CA</td>\n",
       "      <td>51</td>\n",
       "      <td>M</td>\n",
       "      <td>1</td>\n",
       "      <td>1</td>\n",
       "    </tr>\n",
       "    <tr>\n",
       "      <td>2</td>\n",
       "      <td>486</td>\n",
       "      <td>2016-04-01</td>\n",
       "      <td>SFR</td>\n",
       "      <td>CA</td>\n",
       "      <td>48</td>\n",
       "      <td>M</td>\n",
       "      <td>2</td>\n",
       "      <td>1</td>\n",
       "    </tr>\n",
       "  </tbody>\n",
       "</table>\n",
       "</div>"
      ],
      "text/plain": [
       "   uuid        date city_code state_code  age gender  visa_type  count\n",
       "0   107  2016-04-01       NEW         NY   54      M          2      1\n",
       "1   473  2016-04-01       SFR         CA   51      M          1      1\n",
       "2   486  2016-04-01       SFR         CA   48      M          2      1"
      ]
     },
     "execution_count": 12,
     "metadata": {},
     "output_type": "execute_result"
    }
   ],
   "source": [
    "spark_to_pandas(df_i94.take(3))"
   ]
  },
  {
   "cell_type": "code",
   "execution_count": 13,
   "metadata": {},
   "outputs": [
    {
     "data": {
      "text/plain": [
       "[('uuid', 'bigint'),\n",
       " ('date', 'date'),\n",
       " ('city_code', 'string'),\n",
       " ('state_code', 'string'),\n",
       " ('age', 'int'),\n",
       " ('gender', 'string'),\n",
       " ('visa_type', 'int'),\n",
       " ('count', 'int')]"
      ]
     },
     "execution_count": 13,
     "metadata": {},
     "output_type": "execute_result"
    }
   ],
   "source": [
    "df_i94.dtypes"
   ]
  },
  {
   "cell_type": "markdown",
   "metadata": {},
   "source": [
    "### <i> Temperature Data </i>"
   ]
  },
  {
   "cell_type": "code",
   "execution_count": 14,
   "metadata": {},
   "outputs": [
    {
     "data": {
      "text/plain": [
       "8599212"
      ]
     },
     "execution_count": 14,
     "metadata": {},
     "output_type": "execute_result"
    }
   ],
   "source": [
    "temperature.count()"
   ]
  },
  {
   "cell_type": "code",
   "execution_count": 15,
   "metadata": {},
   "outputs": [
    {
     "data": {
      "text/html": [
       "<div>\n",
       "<style scoped>\n",
       "    .dataframe tbody tr th:only-of-type {\n",
       "        vertical-align: middle;\n",
       "    }\n",
       "\n",
       "    .dataframe tbody tr th {\n",
       "        vertical-align: top;\n",
       "    }\n",
       "\n",
       "    .dataframe thead th {\n",
       "        text-align: right;\n",
       "    }\n",
       "</style>\n",
       "<table border=\"1\" class=\"dataframe\">\n",
       "  <thead>\n",
       "    <tr style=\"text-align: right;\">\n",
       "      <th></th>\n",
       "      <th>dt</th>\n",
       "      <th>AverageTemperature</th>\n",
       "      <th>AverageTemperatureUncertainty</th>\n",
       "      <th>City</th>\n",
       "      <th>Country</th>\n",
       "      <th>Latitude</th>\n",
       "      <th>Longitude</th>\n",
       "    </tr>\n",
       "  </thead>\n",
       "  <tbody>\n",
       "    <tr>\n",
       "      <td>0</td>\n",
       "      <td>1743-11-01</td>\n",
       "      <td>6.068</td>\n",
       "      <td>1.7369999999999999</td>\n",
       "      <td>Århus</td>\n",
       "      <td>Denmark</td>\n",
       "      <td>57.05N</td>\n",
       "      <td>10.33E</td>\n",
       "    </tr>\n",
       "    <tr>\n",
       "      <td>1</td>\n",
       "      <td>1743-12-01</td>\n",
       "      <td>None</td>\n",
       "      <td>None</td>\n",
       "      <td>Århus</td>\n",
       "      <td>Denmark</td>\n",
       "      <td>57.05N</td>\n",
       "      <td>10.33E</td>\n",
       "    </tr>\n",
       "    <tr>\n",
       "      <td>2</td>\n",
       "      <td>1744-01-01</td>\n",
       "      <td>None</td>\n",
       "      <td>None</td>\n",
       "      <td>Århus</td>\n",
       "      <td>Denmark</td>\n",
       "      <td>57.05N</td>\n",
       "      <td>10.33E</td>\n",
       "    </tr>\n",
       "  </tbody>\n",
       "</table>\n",
       "</div>"
      ],
      "text/plain": [
       "           dt AverageTemperature AverageTemperatureUncertainty   City  \\\n",
       "0  1743-11-01              6.068            1.7369999999999999  Århus   \n",
       "1  1743-12-01               None                          None  Århus   \n",
       "2  1744-01-01               None                          None  Århus   \n",
       "\n",
       "   Country Latitude Longitude  \n",
       "0  Denmark   57.05N    10.33E  \n",
       "1  Denmark   57.05N    10.33E  \n",
       "2  Denmark   57.05N    10.33E  "
      ]
     },
     "execution_count": 15,
     "metadata": {},
     "output_type": "execute_result"
    }
   ],
   "source": [
    "spark_to_pandas(temperature.take(3))"
   ]
  },
  {
   "cell_type": "code",
   "execution_count": 16,
   "metadata": {},
   "outputs": [],
   "source": [
    "# Create helper to map city full name to city shorthand name\n",
    "# Use @udf to turn Python function into PySpark function\n",
    "\n",
    "@udf  \n",
    "def city_to_port(city):\n",
    "    for key in valid_ports:\n",
    "        if city.lower() in valid_ports[key][0].lower():\n",
    "            return key"
   ]
  },
  {
   "cell_type": "code",
   "execution_count": 17,
   "metadata": {},
   "outputs": [],
   "source": [
    "# Create cleaned dataframe for average temperature\n",
    "\n",
    "df_temp = temperature.filter(temperature[\"Country\"]==\"United States\")\\\n",
    "                     .withColumn(\"year\", year(temperature['dt']))\\\n",
    "                     .withColumn(\"month\",month(temperature[\"dt\"]))\\\n",
    "                     .withColumn(\"i94port\", city_to_port(temperature[\"City\"]))\\\n",
    "                     .withColumn(\"AverageTemperature\",col(\"AverageTemperature\").cast(\"float\"))\\\n",
    "                     .na.drop(subset=[\"i94port\"])\n",
    "\n",
    "\n",
    "df_temp = df_temp.filter(df_temp['year'] == 2013)\\\n",
    "                 .groupBy('i94port','city').agg({'AverageTemperature':'avg'})\n",
    "\n",
    "\n",
    "df_temp = df_temp.select(col(\"i94port\").alias(\"city_code\"),\n",
    "                         col(\"city\").alias(\"city_name\"),\n",
    "                         col(\"avg(AverageTemperature)\").alias(\"2013_average_temperature\")).drop_duplicates()"
   ]
  },
  {
   "cell_type": "code",
   "execution_count": 18,
   "metadata": {},
   "outputs": [
    {
     "data": {
      "text/html": [
       "<div>\n",
       "<style scoped>\n",
       "    .dataframe tbody tr th:only-of-type {\n",
       "        vertical-align: middle;\n",
       "    }\n",
       "\n",
       "    .dataframe tbody tr th {\n",
       "        vertical-align: top;\n",
       "    }\n",
       "\n",
       "    .dataframe thead th {\n",
       "        text-align: right;\n",
       "    }\n",
       "</style>\n",
       "<table border=\"1\" class=\"dataframe\">\n",
       "  <thead>\n",
       "    <tr style=\"text-align: right;\">\n",
       "      <th></th>\n",
       "      <th>city_code</th>\n",
       "      <th>city_name</th>\n",
       "      <th>2013_average_temperature</th>\n",
       "    </tr>\n",
       "  </thead>\n",
       "  <tbody>\n",
       "    <tr>\n",
       "      <td>0</td>\n",
       "      <td>SYR</td>\n",
       "      <td>Syracuse</td>\n",
       "      <td>10.180111</td>\n",
       "    </tr>\n",
       "    <tr>\n",
       "      <td>1</td>\n",
       "      <td>NYC</td>\n",
       "      <td>New York</td>\n",
       "      <td>12.163889</td>\n",
       "    </tr>\n",
       "    <tr>\n",
       "      <td>2</td>\n",
       "      <td>MIL</td>\n",
       "      <td>Milwaukee</td>\n",
       "      <td>11.586889</td>\n",
       "    </tr>\n",
       "  </tbody>\n",
       "</table>\n",
       "</div>"
      ],
      "text/plain": [
       "  city_code  city_name  2013_average_temperature\n",
       "0       SYR   Syracuse                 10.180111\n",
       "1       NYC   New York                 12.163889\n",
       "2       MIL  Milwaukee                 11.586889"
      ]
     },
     "execution_count": 18,
     "metadata": {},
     "output_type": "execute_result"
    }
   ],
   "source": [
    "spark_to_pandas(df_temp.take(3))"
   ]
  },
  {
   "cell_type": "code",
   "execution_count": 19,
   "metadata": {},
   "outputs": [
    {
     "data": {
      "text/plain": [
       "[('city_code', 'string'),\n",
       " ('city_name', 'string'),\n",
       " ('2013_average_temperature', 'double')]"
      ]
     },
     "execution_count": 19,
     "metadata": {},
     "output_type": "execute_result"
    }
   ],
   "source": [
    "df_temp.dtypes"
   ]
  },
  {
   "cell_type": "markdown",
   "metadata": {},
   "source": [
    "### #3: Define the Data Model\n",
    "#### 3.1 Conceptual Data Model\n",
    "\n",
    "##### Staging Tables\n",
    "\n",
    "    df_i94\n",
    "        A. uuid\n",
    "        B. date\n",
    "        E. city_code\n",
    "        F. state_code\n",
    "        G. age\n",
    "        H. gender\n",
    "        I. visa_type\n",
    "        J. count\n",
    "        \n",
    "    df_temp\n",
    "        A. city_code\n",
    "        B. city_name\n",
    "        C. 2013_average_temperature\n",
    "\n",
    "##### Dimension Tables\n",
    "\n",
    "    df_immigrant\n",
    "        A. uuid\n",
    "        B. age\n",
    "        C. gender\n",
    "        D  visa_type\n",
    "   \n",
    "    df_city\n",
    "        A. city_code\n",
    "        B. 2013_average_temperature\n",
    "        \n",
    "    df_time\n",
    "        A. date\n",
    "        B. dayofweek\n",
    "        C. weekofyear\n",
    "        D. month\n",
    "        \n",
    "##### Fact Table\n",
    "\n",
    "    df_immigration\n",
    "        A. uuid\n",
    "        B. city_code\n",
    "        C. date\n",
    "        D. count\n",
    "        \n",
    "#### 3.2 Mapping Out Data Pipelines\n",
    "<b> Steps necessary to pipeline the data into the chosen data model </b>\n",
    "\n",
    "1. Clean the data on nulls, data types, duplicates, etc\n",
    "2. Load staging tables for df_i94 and df_temp\n",
    "3. Create dimension tables for df_immigrant, df_city, df_time \n",
    "4. Create fact table df_immigration with information on immigration count, mapping uuid in df_immigrant, city_code in df_city, and date in df_time ensuring referntial integrity\n",
    "4. Save processed dimension and fact tables in parquet for downstream query"
   ]
  },
  {
   "cell_type": "markdown",
   "metadata": {},
   "source": [
    "### #4: Run Pipelines to Model the Data \n",
    "#### 4.1 Create the data model\n",
    "Build the data pipelines to create the data model."
   ]
  },
  {
   "cell_type": "code",
   "execution_count": 20,
   "metadata": {
    "scrolled": true
   },
   "outputs": [],
   "source": [
    "# Create dimension table for immigrant\n",
    "\n",
    "df_immigrant = df_i94.select(\"uuid\",\n",
    "                             \"age\",\n",
    "                             \"gender\",\n",
    "                             \"visa_type\").drop_duplicates()"
   ]
  },
  {
   "cell_type": "code",
   "execution_count": 21,
   "metadata": {},
   "outputs": [
    {
     "data": {
      "text/html": [
       "<div>\n",
       "<style scoped>\n",
       "    .dataframe tbody tr th:only-of-type {\n",
       "        vertical-align: middle;\n",
       "    }\n",
       "\n",
       "    .dataframe tbody tr th {\n",
       "        vertical-align: top;\n",
       "    }\n",
       "\n",
       "    .dataframe thead th {\n",
       "        text-align: right;\n",
       "    }\n",
       "</style>\n",
       "<table border=\"1\" class=\"dataframe\">\n",
       "  <thead>\n",
       "    <tr style=\"text-align: right;\">\n",
       "      <th></th>\n",
       "      <th>uuid</th>\n",
       "      <th>age</th>\n",
       "      <th>gender</th>\n",
       "      <th>visa_type</th>\n",
       "    </tr>\n",
       "  </thead>\n",
       "  <tbody>\n",
       "    <tr>\n",
       "      <td>0</td>\n",
       "      <td>1811</td>\n",
       "      <td>73</td>\n",
       "      <td>F</td>\n",
       "      <td>2</td>\n",
       "    </tr>\n",
       "    <tr>\n",
       "      <td>1</td>\n",
       "      <td>2280</td>\n",
       "      <td>39</td>\n",
       "      <td>F</td>\n",
       "      <td>2</td>\n",
       "    </tr>\n",
       "    <tr>\n",
       "      <td>2</td>\n",
       "      <td>73917</td>\n",
       "      <td>6</td>\n",
       "      <td>M</td>\n",
       "      <td>2</td>\n",
       "    </tr>\n",
       "    <tr>\n",
       "      <td>3</td>\n",
       "      <td>158057</td>\n",
       "      <td>47</td>\n",
       "      <td>M</td>\n",
       "      <td>2</td>\n",
       "    </tr>\n",
       "    <tr>\n",
       "      <td>4</td>\n",
       "      <td>8589952282</td>\n",
       "      <td>31</td>\n",
       "      <td>F</td>\n",
       "      <td>1</td>\n",
       "    </tr>\n",
       "  </tbody>\n",
       "</table>\n",
       "</div>"
      ],
      "text/plain": [
       "         uuid  age gender  visa_type\n",
       "0        1811   73      F          2\n",
       "1        2280   39      F          2\n",
       "2       73917    6      M          2\n",
       "3      158057   47      M          2\n",
       "4  8589952282   31      F          1"
      ]
     },
     "execution_count": 21,
     "metadata": {},
     "output_type": "execute_result"
    }
   ],
   "source": [
    "spark_to_pandas(df_immigrant.take(5))"
   ]
  },
  {
   "cell_type": "code",
   "execution_count": 22,
   "metadata": {},
   "outputs": [],
   "source": [
    "# Create dimension table for city\n",
    "\n",
    "df_city = df_temp.select(\"city_code\",\n",
    "                         \"2013_average_temperature\").drop_duplicates()"
   ]
  },
  {
   "cell_type": "code",
   "execution_count": 23,
   "metadata": {},
   "outputs": [
    {
     "data": {
      "text/html": [
       "<div>\n",
       "<style scoped>\n",
       "    .dataframe tbody tr th:only-of-type {\n",
       "        vertical-align: middle;\n",
       "    }\n",
       "\n",
       "    .dataframe tbody tr th {\n",
       "        vertical-align: top;\n",
       "    }\n",
       "\n",
       "    .dataframe thead th {\n",
       "        text-align: right;\n",
       "    }\n",
       "</style>\n",
       "<table border=\"1\" class=\"dataframe\">\n",
       "  <thead>\n",
       "    <tr style=\"text-align: right;\">\n",
       "      <th></th>\n",
       "      <th>city_code</th>\n",
       "      <th>2013_average_temperature</th>\n",
       "    </tr>\n",
       "  </thead>\n",
       "  <tbody>\n",
       "    <tr>\n",
       "      <td>0</td>\n",
       "      <td>HAR</td>\n",
       "      <td>12.329111</td>\n",
       "    </tr>\n",
       "    <tr>\n",
       "      <td>1</td>\n",
       "      <td>LCB</td>\n",
       "      <td>24.102222</td>\n",
       "    </tr>\n",
       "    <tr>\n",
       "      <td>2</td>\n",
       "      <td>KAN</td>\n",
       "      <td>13.989667</td>\n",
       "    </tr>\n",
       "    <tr>\n",
       "      <td>3</td>\n",
       "      <td>RCM</td>\n",
       "      <td>15.955445</td>\n",
       "    </tr>\n",
       "    <tr>\n",
       "      <td>4</td>\n",
       "      <td>OTM</td>\n",
       "      <td>23.564555</td>\n",
       "    </tr>\n",
       "  </tbody>\n",
       "</table>\n",
       "</div>"
      ],
      "text/plain": [
       "  city_code  2013_average_temperature\n",
       "0       HAR                 12.329111\n",
       "1       LCB                 24.102222\n",
       "2       KAN                 13.989667\n",
       "3       RCM                 15.955445\n",
       "4       OTM                 23.564555"
      ]
     },
     "execution_count": 23,
     "metadata": {},
     "output_type": "execute_result"
    }
   ],
   "source": [
    "spark_to_pandas(df_city.take(5))"
   ]
  },
  {
   "cell_type": "code",
   "execution_count": 24,
   "metadata": {},
   "outputs": [],
   "source": [
    "# Create dimension table for time\n",
    "\n",
    "df_time = df_i94.withColumn(\"day\", F.dayofweek(\"date\"))\\\n",
    "                .withColumn(\"week\", F.weekofyear(\"date\"))\\\n",
    "                .withColumn(\"month\", F.month(\"date\"))\n",
    "                        \n",
    "df_time = df_time.select(\"date\", \n",
    "                         \"day\", \n",
    "                         \"week\", \n",
    "                         \"month\").drop_duplicates()"
   ]
  },
  {
   "cell_type": "code",
   "execution_count": 25,
   "metadata": {},
   "outputs": [
    {
     "data": {
      "text/html": [
       "<div>\n",
       "<style scoped>\n",
       "    .dataframe tbody tr th:only-of-type {\n",
       "        vertical-align: middle;\n",
       "    }\n",
       "\n",
       "    .dataframe tbody tr th {\n",
       "        vertical-align: top;\n",
       "    }\n",
       "\n",
       "    .dataframe thead th {\n",
       "        text-align: right;\n",
       "    }\n",
       "</style>\n",
       "<table border=\"1\" class=\"dataframe\">\n",
       "  <thead>\n",
       "    <tr style=\"text-align: right;\">\n",
       "      <th></th>\n",
       "      <th>date</th>\n",
       "      <th>day</th>\n",
       "      <th>week</th>\n",
       "      <th>month</th>\n",
       "    </tr>\n",
       "  </thead>\n",
       "  <tbody>\n",
       "    <tr>\n",
       "      <td>0</td>\n",
       "      <td>2016-04-08</td>\n",
       "      <td>6</td>\n",
       "      <td>14</td>\n",
       "      <td>4</td>\n",
       "    </tr>\n",
       "    <tr>\n",
       "      <td>1</td>\n",
       "      <td>2016-04-14</td>\n",
       "      <td>5</td>\n",
       "      <td>15</td>\n",
       "      <td>4</td>\n",
       "    </tr>\n",
       "    <tr>\n",
       "      <td>2</td>\n",
       "      <td>2016-04-11</td>\n",
       "      <td>2</td>\n",
       "      <td>15</td>\n",
       "      <td>4</td>\n",
       "    </tr>\n",
       "    <tr>\n",
       "      <td>3</td>\n",
       "      <td>2016-04-17</td>\n",
       "      <td>1</td>\n",
       "      <td>15</td>\n",
       "      <td>4</td>\n",
       "    </tr>\n",
       "    <tr>\n",
       "      <td>4</td>\n",
       "      <td>2016-04-05</td>\n",
       "      <td>3</td>\n",
       "      <td>14</td>\n",
       "      <td>4</td>\n",
       "    </tr>\n",
       "  </tbody>\n",
       "</table>\n",
       "</div>"
      ],
      "text/plain": [
       "         date  day  week  month\n",
       "0  2016-04-08    6    14      4\n",
       "1  2016-04-14    5    15      4\n",
       "2  2016-04-11    2    15      4\n",
       "3  2016-04-17    1    15      4\n",
       "4  2016-04-05    3    14      4"
      ]
     },
     "execution_count": 25,
     "metadata": {},
     "output_type": "execute_result"
    }
   ],
   "source": [
    "spark_to_pandas(df_time.take(5))"
   ]
  },
  {
   "cell_type": "code",
   "execution_count": 26,
   "metadata": {},
   "outputs": [],
   "source": [
    "# Create fact table for immigration\n",
    "        \n",
    "df_immigration = df_i94.select(\"uuid\", \n",
    "                              \"city_code\", \n",
    "                              \"date\", \n",
    "                              \"count\").drop_duplicates()"
   ]
  },
  {
   "cell_type": "code",
   "execution_count": 27,
   "metadata": {},
   "outputs": [
    {
     "data": {
      "text/html": [
       "<div>\n",
       "<style scoped>\n",
       "    .dataframe tbody tr th:only-of-type {\n",
       "        vertical-align: middle;\n",
       "    }\n",
       "\n",
       "    .dataframe tbody tr th {\n",
       "        vertical-align: top;\n",
       "    }\n",
       "\n",
       "    .dataframe thead th {\n",
       "        text-align: right;\n",
       "    }\n",
       "</style>\n",
       "<table border=\"1\" class=\"dataframe\">\n",
       "  <thead>\n",
       "    <tr style=\"text-align: right;\">\n",
       "      <th></th>\n",
       "      <th>uuid</th>\n",
       "      <th>city_code</th>\n",
       "      <th>date</th>\n",
       "      <th>count</th>\n",
       "    </tr>\n",
       "  </thead>\n",
       "  <tbody>\n",
       "    <tr>\n",
       "      <td>0</td>\n",
       "      <td>1365</td>\n",
       "      <td>LOS</td>\n",
       "      <td>2016-04-01</td>\n",
       "      <td>1</td>\n",
       "    </tr>\n",
       "    <tr>\n",
       "      <td>1</td>\n",
       "      <td>14519</td>\n",
       "      <td>SFB</td>\n",
       "      <td>2016-04-01</td>\n",
       "      <td>1</td>\n",
       "    </tr>\n",
       "    <tr>\n",
       "      <td>2</td>\n",
       "      <td>52056</td>\n",
       "      <td>NYC</td>\n",
       "      <td>2016-04-01</td>\n",
       "      <td>1</td>\n",
       "    </tr>\n",
       "    <tr>\n",
       "      <td>3</td>\n",
       "      <td>92333</td>\n",
       "      <td>LOS</td>\n",
       "      <td>2016-04-01</td>\n",
       "      <td>1</td>\n",
       "    </tr>\n",
       "    <tr>\n",
       "      <td>4</td>\n",
       "      <td>108719</td>\n",
       "      <td>MIA</td>\n",
       "      <td>2016-04-02</td>\n",
       "      <td>1</td>\n",
       "    </tr>\n",
       "  </tbody>\n",
       "</table>\n",
       "</div>"
      ],
      "text/plain": [
       "     uuid city_code        date  count\n",
       "0    1365       LOS  2016-04-01      1\n",
       "1   14519       SFB  2016-04-01      1\n",
       "2   52056       NYC  2016-04-01      1\n",
       "3   92333       LOS  2016-04-01      1\n",
       "4  108719       MIA  2016-04-02      1"
      ]
     },
     "execution_count": 27,
     "metadata": {},
     "output_type": "execute_result"
    }
   ],
   "source": [
    "spark_to_pandas(df_immigration.take(5))"
   ]
  },
  {
   "cell_type": "markdown",
   "metadata": {},
   "source": [
    "#### 4.2 Data Quality Checks\n",
    "\n",
    "Run Quality Checks"
   ]
  },
  {
   "cell_type": "code",
   "execution_count": 28,
   "metadata": {},
   "outputs": [
    {
     "name": "stdout",
     "output_type": "stream",
     "text": [
      "data quality check passed\n",
      "dimension tables and fact table exist\n",
      "\n"
     ]
    }
   ],
   "source": [
    "# Perform quality checks here\n",
    "\n",
    "def qc_df(df):\n",
    "    if df is not None:\n",
    "        return True\n",
    "    else:\n",
    "        return False\n",
    "        \n",
    "if qc_df(df_immigrant) & qc_df(df_city) & qc_df(df_time) & qc_df(df_immigration):\n",
    "    print(\"data quality check passed\")\n",
    "    print(\"dimension tables and fact table exist\")\n",
    "    print()\n",
    "else:\n",
    "    print(\"data quality check failed\")\n",
    "    print(\"table missing...\")"
   ]
  },
  {
   "cell_type": "code",
   "execution_count": 29,
   "metadata": {},
   "outputs": [
    {
     "name": "stdout",
     "output_type": "stream",
     "text": [
      "data quality check passed!\n",
      "dimension tables and fact table contain records\n",
      "\n"
     ]
    }
   ],
   "source": [
    "def qc_records(df):\n",
    "    return df.count() != 0 \n",
    "\n",
    "if qc_records(df_immigrant) & qc_records(df_city) & qc_records(df_time) &  qc_records(df_immigration):\n",
    "    print(\"data quality check passed!\")\n",
    "    print(\"dimension tables and fact table contain records\")\n",
    "    print()\n",
    "else:\n",
    "    print(\"data quality check failed!\")\n",
    "    print(\"null records...\")"
   ]
  },
  {
   "cell_type": "markdown",
   "metadata": {},
   "source": [
    "#### 4.3 Data dictionary \n",
    "Brief description of what the data is and where it came from.\n",
    "\n",
    "\n",
    "##### Dimension Tables\n",
    "\n",
    "    df_immigrant\n",
    "        A. uuid: unique id of immigrants. System generated.\n",
    "        B. age: immigrant's age\n",
    "        C. gender: immigrant's gender (M: Male, F: Female)\n",
    "        D  visa_type: visa type as listed on I94 (1: Business, 2: Pleasure, 3: Student)\n",
    "   \n",
    "    df_city\n",
    "        A. city_code: US city of arrival\n",
    "        B. 2013_average_temperature: 2013 average temperature of city of arrival \n",
    "        \n",
    "    df_time\n",
    "        A. date: arrival date YYYY-MM-DD\n",
    "        B. dayofweek: day of the week for arrival\n",
    "        C. weekofyear: week of the year for arrival\n",
    "        D. month: month of the date for arrival\n",
    "        \n",
    "\n",
    "##### Fact Table\n",
    "\n",
    "    df_immigration\n",
    "        A. uuid: unique id of immigrants. System generated\n",
    "        B. city_code: US city of arrival\n",
    "        C. date: arrival date YYYY-MM-DD\n",
    "        D. count: number of arrival"
   ]
  },
  {
   "cell_type": "markdown",
   "metadata": {},
   "source": [
    "#### #5: Final Project Write Up\n",
    "Spark is chosen for this project as it is known for processing large amount of data fast (with in-memory compute), scale easily with additional worker nodes, with ability to digest different data formats (e.g. SAS, Parquet, CSV), and integrate nicely with cloud storage like S3 and warehouse like Redshift. \n",
    "\n",
    "The data update cycle is typically chosen on two criteria. One is the reporting cycle, the other is the availabilty of new data to be fed into the system. For example, if new batch of average temperature can be made available at monthly interval, we might settle for monthly data refreshing cycle.  \n",
    "\n",
    "There are also considerations in terms of scaling existing solution. \n",
    " * If the data was increased by 100x: <br>\n",
    " We can consider spinning up larger instances of EC2s hosting Spark and/or additional Spark work nodes. With added capacity arising from either vertical scaling or horizontal scaling, we should be able to accelerate processing time.  <br><br>\n",
    " * If the data populates a dashboard that must be updated on a daily basis by 7am every day: <br>\n",
    "    We can consider using Airflow to schedule and automate the data pipeline jobs. Built-in retry and monitoring mechanism can enable us to meet user requirement. <br><br>\n",
    " * if the database needed to be accessed by 100+ people: <br>\n",
    "    We can consider hosting our solution in production scale data warehouse in the cloud, with larger capacity to serve more users, and workload management to ensure equitable usage of resources across users. "
   ]
  },
  {
   "cell_type": "code",
   "execution_count": null,
   "metadata": {},
   "outputs": [],
   "source": []
  }
 ],
 "metadata": {
  "kernelspec": {
   "display_name": "Python 3",
   "language": "python",
   "name": "python3"
  },
  "language_info": {
   "codemirror_mode": {
    "name": "ipython",
    "version": 3
   },
   "file_extension": ".py",
   "mimetype": "text/x-python",
   "name": "python",
   "nbconvert_exporter": "python",
   "pygments_lexer": "ipython3",
   "version": "3.7.4"
  }
 },
 "nbformat": 4,
 "nbformat_minor": 4
}
